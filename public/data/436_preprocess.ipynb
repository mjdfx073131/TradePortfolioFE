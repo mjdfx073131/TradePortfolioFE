{
 "cells": [
  {
   "cell_type": "code",
   "execution_count": 54,
   "metadata": {},
   "outputs": [],
   "source": [
    "import numpy as np\n",
    "import pandas as pd\n",
    "import glob\n",
    "import os"
   ]
  },
  {
   "cell_type": "markdown",
   "metadata": {},
   "source": [
    "### Step one:\n",
    "#### Adapted from [StackOverflow](https://stackoverflow.com/questions/41857659/python-pandas-add-filename-column-csv)\n",
    "#### Merge 505 company files into one file, append filename as symbol"
   ]
  },
  {
   "cell_type": "code",
   "execution_count": 79,
   "metadata": {},
   "outputs": [],
   "source": [
    "globbed_files = glob.glob(\"data/*.csv\")"
   ]
  },
  {
   "cell_type": "code",
   "execution_count": 56,
   "metadata": {},
   "outputs": [],
   "source": [
    "frame = pd.DataFrame()"
   ]
  },
  {
   "cell_type": "code",
   "execution_count": 57,
   "metadata": {},
   "outputs": [],
   "source": [
    "for csv in globbed_files:\n",
    "    frame_t = pd.read_csv(csv, parse_dates=[\"Date\"])\n",
    "    filename = os.path.basename(csv)\n",
    "    frame_t['symbol'] = os.path.splitext(filename)[0]\n",
    "    frame = pd.concat([frame, frame_t], ignore_index=True)"
   ]
  },
  {
   "cell_type": "code",
   "execution_count": 58,
   "metadata": {},
   "outputs": [
    {
     "data": {
      "text/html": [
       "<div>\n",
       "<style scoped>\n",
       "    .dataframe tbody tr th:only-of-type {\n",
       "        vertical-align: middle;\n",
       "    }\n",
       "\n",
       "    .dataframe tbody tr th {\n",
       "        vertical-align: top;\n",
       "    }\n",
       "\n",
       "    .dataframe thead th {\n",
       "        text-align: right;\n",
       "    }\n",
       "</style>\n",
       "<table border=\"1\" class=\"dataframe\">\n",
       "  <thead>\n",
       "    <tr style=\"text-align: right;\">\n",
       "      <th></th>\n",
       "      <th>Date</th>\n",
       "      <th>Open</th>\n",
       "      <th>High</th>\n",
       "      <th>Low</th>\n",
       "      <th>Close</th>\n",
       "      <th>Adj Close</th>\n",
       "      <th>Volume</th>\n",
       "      <th>symbol</th>\n",
       "    </tr>\n",
       "  </thead>\n",
       "  <tbody>\n",
       "    <tr>\n",
       "      <th>0</th>\n",
       "      <td>1990-02-16</td>\n",
       "      <td>0.000000</td>\n",
       "      <td>0.079861</td>\n",
       "      <td>0.073785</td>\n",
       "      <td>0.077257</td>\n",
       "      <td>0.057775</td>\n",
       "      <td>940636800.0</td>\n",
       "      <td>CSCO</td>\n",
       "    </tr>\n",
       "    <tr>\n",
       "      <th>1</th>\n",
       "      <td>1990-02-20</td>\n",
       "      <td>0.000000</td>\n",
       "      <td>0.079861</td>\n",
       "      <td>0.074653</td>\n",
       "      <td>0.079861</td>\n",
       "      <td>0.059723</td>\n",
       "      <td>151862400.0</td>\n",
       "      <td>CSCO</td>\n",
       "    </tr>\n",
       "    <tr>\n",
       "      <th>2</th>\n",
       "      <td>1990-02-21</td>\n",
       "      <td>0.000000</td>\n",
       "      <td>0.078993</td>\n",
       "      <td>0.075521</td>\n",
       "      <td>0.078125</td>\n",
       "      <td>0.058424</td>\n",
       "      <td>70531200.0</td>\n",
       "      <td>CSCO</td>\n",
       "    </tr>\n",
       "    <tr>\n",
       "      <th>3</th>\n",
       "      <td>1990-02-22</td>\n",
       "      <td>0.000000</td>\n",
       "      <td>0.081597</td>\n",
       "      <td>0.078993</td>\n",
       "      <td>0.078993</td>\n",
       "      <td>0.059073</td>\n",
       "      <td>45216000.0</td>\n",
       "      <td>CSCO</td>\n",
       "    </tr>\n",
       "    <tr>\n",
       "      <th>4</th>\n",
       "      <td>1990-02-23</td>\n",
       "      <td>0.000000</td>\n",
       "      <td>0.079861</td>\n",
       "      <td>0.078125</td>\n",
       "      <td>0.078559</td>\n",
       "      <td>0.058749</td>\n",
       "      <td>44697600.0</td>\n",
       "      <td>CSCO</td>\n",
       "    </tr>\n",
       "    <tr>\n",
       "      <th>...</th>\n",
       "      <td>...</td>\n",
       "      <td>...</td>\n",
       "      <td>...</td>\n",
       "      <td>...</td>\n",
       "      <td>...</td>\n",
       "      <td>...</td>\n",
       "      <td>...</td>\n",
       "      <td>...</td>\n",
       "    </tr>\n",
       "    <tr>\n",
       "      <th>3918152</th>\n",
       "      <td>2021-01-25</td>\n",
       "      <td>27.639999</td>\n",
       "      <td>28.650000</td>\n",
       "      <td>27.549999</td>\n",
       "      <td>28.110001</td>\n",
       "      <td>28.110001</td>\n",
       "      <td>6237400.0</td>\n",
       "      <td>PPL</td>\n",
       "    </tr>\n",
       "    <tr>\n",
       "      <th>3918153</th>\n",
       "      <td>2021-01-26</td>\n",
       "      <td>28.120001</td>\n",
       "      <td>28.430000</td>\n",
       "      <td>27.840000</td>\n",
       "      <td>28.250000</td>\n",
       "      <td>28.250000</td>\n",
       "      <td>3469800.0</td>\n",
       "      <td>PPL</td>\n",
       "    </tr>\n",
       "    <tr>\n",
       "      <th>3918154</th>\n",
       "      <td>2021-01-27</td>\n",
       "      <td>28.049999</td>\n",
       "      <td>28.440001</td>\n",
       "      <td>27.780001</td>\n",
       "      <td>27.799999</td>\n",
       "      <td>27.799999</td>\n",
       "      <td>6147000.0</td>\n",
       "      <td>PPL</td>\n",
       "    </tr>\n",
       "    <tr>\n",
       "      <th>3918155</th>\n",
       "      <td>2021-01-28</td>\n",
       "      <td>27.889999</td>\n",
       "      <td>28.610001</td>\n",
       "      <td>27.770000</td>\n",
       "      <td>28.129999</td>\n",
       "      <td>28.129999</td>\n",
       "      <td>3754600.0</td>\n",
       "      <td>PPL</td>\n",
       "    </tr>\n",
       "    <tr>\n",
       "      <th>3918156</th>\n",
       "      <td>2021-01-29</td>\n",
       "      <td>27.920000</td>\n",
       "      <td>28.129999</td>\n",
       "      <td>27.570000</td>\n",
       "      <td>27.670000</td>\n",
       "      <td>27.670000</td>\n",
       "      <td>5879600.0</td>\n",
       "      <td>PPL</td>\n",
       "    </tr>\n",
       "  </tbody>\n",
       "</table>\n",
       "<p>3918157 rows × 8 columns</p>\n",
       "</div>"
      ],
      "text/plain": [
       "              Date       Open       High        Low      Close  Adj Close  \\\n",
       "0       1990-02-16   0.000000   0.079861   0.073785   0.077257   0.057775   \n",
       "1       1990-02-20   0.000000   0.079861   0.074653   0.079861   0.059723   \n",
       "2       1990-02-21   0.000000   0.078993   0.075521   0.078125   0.058424   \n",
       "3       1990-02-22   0.000000   0.081597   0.078993   0.078993   0.059073   \n",
       "4       1990-02-23   0.000000   0.079861   0.078125   0.078559   0.058749   \n",
       "...            ...        ...        ...        ...        ...        ...   \n",
       "3918152 2021-01-25  27.639999  28.650000  27.549999  28.110001  28.110001   \n",
       "3918153 2021-01-26  28.120001  28.430000  27.840000  28.250000  28.250000   \n",
       "3918154 2021-01-27  28.049999  28.440001  27.780001  27.799999  27.799999   \n",
       "3918155 2021-01-28  27.889999  28.610001  27.770000  28.129999  28.129999   \n",
       "3918156 2021-01-29  27.920000  28.129999  27.570000  27.670000  27.670000   \n",
       "\n",
       "              Volume symbol  \n",
       "0        940636800.0   CSCO  \n",
       "1        151862400.0   CSCO  \n",
       "2         70531200.0   CSCO  \n",
       "3         45216000.0   CSCO  \n",
       "4         44697600.0   CSCO  \n",
       "...              ...    ...  \n",
       "3918152    6237400.0    PPL  \n",
       "3918153    3469800.0    PPL  \n",
       "3918154    6147000.0    PPL  \n",
       "3918155    3754600.0    PPL  \n",
       "3918156    5879600.0    PPL  \n",
       "\n",
       "[3918157 rows x 8 columns]"
      ]
     },
     "execution_count": 58,
     "metadata": {},
     "output_type": "execute_result"
    }
   ],
   "source": [
    "frame"
   ]
  },
  {
   "cell_type": "code",
   "execution_count": 273,
   "metadata": {},
   "outputs": [],
   "source": [
    "start_date = '2018-01-29'\n",
    "end_date = '2021-01-29'"
   ]
  },
  {
   "cell_type": "code",
   "execution_count": 274,
   "metadata": {},
   "outputs": [],
   "source": [
    "df = frame.loc[(frame['Date'] >= start_date) & (frame['Date'] <= end_date)]"
   ]
  },
  {
   "cell_type": "code",
   "execution_count": 275,
   "metadata": {},
   "outputs": [],
   "source": [
    "df = df.sort_values(by=['symbol']).reset_index(drop=True)"
   ]
  },
  {
   "cell_type": "markdown",
   "metadata": {},
   "source": [
    "### Step two:\n",
    "#### Do an inner join with marketcap.csv on symbol"
   ]
  },
  {
   "cell_type": "code",
   "execution_count": 276,
   "metadata": {},
   "outputs": [],
   "source": [
    "df_marketcap = pd.read_csv('marketcap.csv')"
   ]
  },
  {
   "cell_type": "code",
   "execution_count": 277,
   "metadata": {},
   "outputs": [],
   "source": [
    "merged_r = df.merge(df_marketcap, on=['symbol'], how='right')"
   ]
  },
  {
   "cell_type": "code",
   "execution_count": 278,
   "metadata": {},
   "outputs": [
    {
     "data": {
      "text/plain": [
       "array(['BRK.B', 'BF.B', 'HWM', 'MPWR'], dtype=object)"
      ]
     },
     "execution_count": 278,
     "metadata": {},
     "output_type": "execute_result"
    }
   ],
   "source": [
    "merged_r[merged_r['Close'].isna()]['symbol'].unique()"
   ]
  },
  {
   "cell_type": "code",
   "execution_count": 279,
   "metadata": {},
   "outputs": [
    {
     "data": {
      "text/plain": [
       "array(['BF-B', 'BRK-B', 'FTI'], dtype=object)"
      ]
     },
     "execution_count": 279,
     "metadata": {},
     "output_type": "execute_result"
    }
   ],
   "source": [
    "merged_l = df.merge(df_marketcap, on=['symbol'], how='left')\n",
    "merged_l[merged_l['marketcap'].isna()]['symbol'].unique()"
   ]
  },
  {
   "cell_type": "markdown",
   "metadata": {},
   "source": [
    "After looking up the news on the Internet, we realized that FTI is replaced by MPWR since Feb. 12th 2021. However, since our data in the the period of 2018-01-29 to 2021-01-29, we will use FTI instead of MPWR.\n",
    "In addition, replace 'BF.B' and 'BRK.B' with 'BF-B' and 'BRK-B' in marketcap.csv"
   ]
  },
  {
   "cell_type": "code",
   "execution_count": 280,
   "metadata": {},
   "outputs": [],
   "source": [
    "df_marketcap = df_marketcap[df_marketcap.symbol!='MPWR']"
   ]
  },
  {
   "cell_type": "code",
   "execution_count": 281,
   "metadata": {},
   "outputs": [],
   "source": [
    "df_marketcap.loc[df_marketcap['symbol']=='BF.B','symbol'] = 'BF-B'"
   ]
  },
  {
   "cell_type": "code",
   "execution_count": 282,
   "metadata": {},
   "outputs": [],
   "source": [
    "df_marketcap.loc[df_marketcap['symbol']=='BRK.B','symbol'] = 'BRK-B'"
   ]
  },
  {
   "cell_type": "markdown",
   "metadata": {},
   "source": [
    "retrieve the market cap of FTI in google sheet by using function `=GOOGLEFINANCE(\"NYSE:FTI\", \"marketcap\")`"
   ]
  },
  {
   "cell_type": "code",
   "execution_count": 283,
   "metadata": {},
   "outputs": [],
   "source": [
    "FTI_marketcap_row = {'symbol':'FTI', 'name':'TechnipFMC', 'sector':'Energy', 'marketcap':3945801943}"
   ]
  },
  {
   "cell_type": "code",
   "execution_count": 284,
   "metadata": {},
   "outputs": [],
   "source": [
    "df_marketcap = df_marketcap.append(FTI_marketcap_row, ignore_index=True)"
   ]
  },
  {
   "cell_type": "code",
   "execution_count": 285,
   "metadata": {},
   "outputs": [],
   "source": [
    "df_marketcap.to_csv('marketcap_preprocessed.csv')"
   ]
  },
  {
   "cell_type": "markdown",
   "metadata": {},
   "source": [
    "We also realize that data of 'HWM' is corrupted, thus we need to replace the data in df"
   ]
  },
  {
   "cell_type": "code",
   "execution_count": 286,
   "metadata": {},
   "outputs": [],
   "source": [
    "from pandas_datareader import data"
   ]
  },
  {
   "cell_type": "code",
   "execution_count": 287,
   "metadata": {},
   "outputs": [],
   "source": [
    "hwm = data.DataReader(\"HWM\", \n",
    "                       start='2018-01-29', \n",
    "                       end='2021-01-29', \n",
    "                       data_source='yahoo')"
   ]
  },
  {
   "cell_type": "code",
   "execution_count": 288,
   "metadata": {},
   "outputs": [
    {
     "data": {
      "text/html": [
       "<div>\n",
       "<style scoped>\n",
       "    .dataframe tbody tr th:only-of-type {\n",
       "        vertical-align: middle;\n",
       "    }\n",
       "\n",
       "    .dataframe tbody tr th {\n",
       "        vertical-align: top;\n",
       "    }\n",
       "\n",
       "    .dataframe thead th {\n",
       "        text-align: right;\n",
       "    }\n",
       "</style>\n",
       "<table border=\"1\" class=\"dataframe\">\n",
       "  <thead>\n",
       "    <tr style=\"text-align: right;\">\n",
       "      <th></th>\n",
       "      <th>High</th>\n",
       "      <th>Low</th>\n",
       "      <th>Open</th>\n",
       "      <th>Close</th>\n",
       "      <th>Volume</th>\n",
       "      <th>Adj Close</th>\n",
       "    </tr>\n",
       "    <tr>\n",
       "      <th>Date</th>\n",
       "      <th></th>\n",
       "      <th></th>\n",
       "      <th></th>\n",
       "      <th></th>\n",
       "      <th></th>\n",
       "      <th></th>\n",
       "    </tr>\n",
       "  </thead>\n",
       "  <tbody>\n",
       "    <tr>\n",
       "      <th>2018-01-29</th>\n",
       "      <td>30.910000</td>\n",
       "      <td>30.170000</td>\n",
       "      <td>30.830000</td>\n",
       "      <td>30.260000</td>\n",
       "      <td>2462700.0</td>\n",
       "      <td>29.733521</td>\n",
       "    </tr>\n",
       "    <tr>\n",
       "      <th>2018-01-30</th>\n",
       "      <td>30.180000</td>\n",
       "      <td>29.379999</td>\n",
       "      <td>30.020000</td>\n",
       "      <td>29.920000</td>\n",
       "      <td>4431300.0</td>\n",
       "      <td>29.399433</td>\n",
       "    </tr>\n",
       "    <tr>\n",
       "      <th>2018-01-31</th>\n",
       "      <td>30.510000</td>\n",
       "      <td>29.770000</td>\n",
       "      <td>30.000000</td>\n",
       "      <td>30.059999</td>\n",
       "      <td>3403200.0</td>\n",
       "      <td>29.536999</td>\n",
       "    </tr>\n",
       "    <tr>\n",
       "      <th>2018-02-01</th>\n",
       "      <td>30.389999</td>\n",
       "      <td>29.719999</td>\n",
       "      <td>29.750000</td>\n",
       "      <td>30.110001</td>\n",
       "      <td>2808400.0</td>\n",
       "      <td>29.645300</td>\n",
       "    </tr>\n",
       "    <tr>\n",
       "      <th>2018-02-02</th>\n",
       "      <td>29.760000</td>\n",
       "      <td>28.830000</td>\n",
       "      <td>29.760000</td>\n",
       "      <td>29.110001</td>\n",
       "      <td>7621800.0</td>\n",
       "      <td>28.660734</td>\n",
       "    </tr>\n",
       "    <tr>\n",
       "      <th>...</th>\n",
       "      <td>...</td>\n",
       "      <td>...</td>\n",
       "      <td>...</td>\n",
       "      <td>...</td>\n",
       "      <td>...</td>\n",
       "      <td>...</td>\n",
       "    </tr>\n",
       "    <tr>\n",
       "      <th>2021-01-25</th>\n",
       "      <td>26.610001</td>\n",
       "      <td>25.340000</td>\n",
       "      <td>26.480000</td>\n",
       "      <td>25.830000</td>\n",
       "      <td>7595900.0</td>\n",
       "      <td>25.830000</td>\n",
       "    </tr>\n",
       "    <tr>\n",
       "      <th>2021-01-26</th>\n",
       "      <td>26.280001</td>\n",
       "      <td>24.910000</td>\n",
       "      <td>26.139999</td>\n",
       "      <td>25.000000</td>\n",
       "      <td>7258600.0</td>\n",
       "      <td>25.000000</td>\n",
       "    </tr>\n",
       "    <tr>\n",
       "      <th>2021-01-27</th>\n",
       "      <td>24.450001</td>\n",
       "      <td>22.910000</td>\n",
       "      <td>24.389999</td>\n",
       "      <td>23.600000</td>\n",
       "      <td>8144000.0</td>\n",
       "      <td>23.600000</td>\n",
       "    </tr>\n",
       "    <tr>\n",
       "      <th>2021-01-28</th>\n",
       "      <td>24.879999</td>\n",
       "      <td>24.000000</td>\n",
       "      <td>24.090000</td>\n",
       "      <td>24.760000</td>\n",
       "      <td>4724500.0</td>\n",
       "      <td>24.760000</td>\n",
       "    </tr>\n",
       "    <tr>\n",
       "      <th>2021-01-29</th>\n",
       "      <td>25.410000</td>\n",
       "      <td>24.100000</td>\n",
       "      <td>24.639999</td>\n",
       "      <td>24.580000</td>\n",
       "      <td>5861000.0</td>\n",
       "      <td>24.580000</td>\n",
       "    </tr>\n",
       "  </tbody>\n",
       "</table>\n",
       "<p>757 rows × 6 columns</p>\n",
       "</div>"
      ],
      "text/plain": [
       "                 High        Low       Open      Close     Volume  Adj Close\n",
       "Date                                                                        \n",
       "2018-01-29  30.910000  30.170000  30.830000  30.260000  2462700.0  29.733521\n",
       "2018-01-30  30.180000  29.379999  30.020000  29.920000  4431300.0  29.399433\n",
       "2018-01-31  30.510000  29.770000  30.000000  30.059999  3403200.0  29.536999\n",
       "2018-02-01  30.389999  29.719999  29.750000  30.110001  2808400.0  29.645300\n",
       "2018-02-02  29.760000  28.830000  29.760000  29.110001  7621800.0  28.660734\n",
       "...               ...        ...        ...        ...        ...        ...\n",
       "2021-01-25  26.610001  25.340000  26.480000  25.830000  7595900.0  25.830000\n",
       "2021-01-26  26.280001  24.910000  26.139999  25.000000  7258600.0  25.000000\n",
       "2021-01-27  24.450001  22.910000  24.389999  23.600000  8144000.0  23.600000\n",
       "2021-01-28  24.879999  24.000000  24.090000  24.760000  4724500.0  24.760000\n",
       "2021-01-29  25.410000  24.100000  24.639999  24.580000  5861000.0  24.580000\n",
       "\n",
       "[757 rows x 6 columns]"
      ]
     },
     "execution_count": 288,
     "metadata": {},
     "output_type": "execute_result"
    }
   ],
   "source": [
    "hwm"
   ]
  },
  {
   "cell_type": "code",
   "execution_count": 289,
   "metadata": {},
   "outputs": [],
   "source": [
    "hwm = hwm.reset_index()"
   ]
  },
  {
   "cell_type": "code",
   "execution_count": 290,
   "metadata": {},
   "outputs": [],
   "source": [
    "hwm['symbol']='HWM'"
   ]
  },
  {
   "cell_type": "code",
   "execution_count": 291,
   "metadata": {},
   "outputs": [],
   "source": [
    "df = df[df.symbol!='HWM']"
   ]
  },
  {
   "cell_type": "code",
   "execution_count": 292,
   "metadata": {},
   "outputs": [],
   "source": [
    "df = pd.concat([df,hwm], ignore_index=True)"
   ]
  },
  {
   "cell_type": "code",
   "execution_count": 293,
   "metadata": {},
   "outputs": [],
   "source": [
    "df = df.sort_values(by=['symbol','Date']).reset_index(drop=True)"
   ]
  },
  {
   "cell_type": "code",
   "execution_count": 294,
   "metadata": {},
   "outputs": [],
   "source": [
    "df = df.rename(columns={'Adj Close':'Adj_Close'})"
   ]
  },
  {
   "cell_type": "code",
   "execution_count": 295,
   "metadata": {},
   "outputs": [],
   "source": [
    "df_short = df.drop(columns=['High','Low','Open','Close'])"
   ]
  },
  {
   "cell_type": "code",
   "execution_count": 296,
   "metadata": {},
   "outputs": [
    {
     "data": {
      "text/html": [
       "<div>\n",
       "<style scoped>\n",
       "    .dataframe tbody tr th:only-of-type {\n",
       "        vertical-align: middle;\n",
       "    }\n",
       "\n",
       "    .dataframe tbody tr th {\n",
       "        vertical-align: top;\n",
       "    }\n",
       "\n",
       "    .dataframe thead th {\n",
       "        text-align: right;\n",
       "    }\n",
       "</style>\n",
       "<table border=\"1\" class=\"dataframe\">\n",
       "  <thead>\n",
       "    <tr style=\"text-align: right;\">\n",
       "      <th></th>\n",
       "      <th>Date</th>\n",
       "      <th>Adj_Close</th>\n",
       "      <th>Volume</th>\n",
       "      <th>symbol</th>\n",
       "    </tr>\n",
       "  </thead>\n",
       "  <tbody>\n",
       "    <tr>\n",
       "      <th>0</th>\n",
       "      <td>2018-01-29</td>\n",
       "      <td>72.631302</td>\n",
       "      <td>1321900.0</td>\n",
       "      <td>A</td>\n",
       "    </tr>\n",
       "    <tr>\n",
       "      <th>1</th>\n",
       "      <td>2018-01-30</td>\n",
       "      <td>71.130524</td>\n",
       "      <td>1817000.0</td>\n",
       "      <td>A</td>\n",
       "    </tr>\n",
       "    <tr>\n",
       "      <th>2</th>\n",
       "      <td>2018-01-31</td>\n",
       "      <td>71.559326</td>\n",
       "      <td>2032800.0</td>\n",
       "      <td>A</td>\n",
       "    </tr>\n",
       "    <tr>\n",
       "      <th>3</th>\n",
       "      <td>2018-02-01</td>\n",
       "      <td>70.974609</td>\n",
       "      <td>2008200.0</td>\n",
       "      <td>A</td>\n",
       "    </tr>\n",
       "    <tr>\n",
       "      <th>4</th>\n",
       "      <td>2018-02-02</td>\n",
       "      <td>69.434868</td>\n",
       "      <td>1955700.0</td>\n",
       "      <td>A</td>\n",
       "    </tr>\n",
       "    <tr>\n",
       "      <th>...</th>\n",
       "      <td>...</td>\n",
       "      <td>...</td>\n",
       "      <td>...</td>\n",
       "      <td>...</td>\n",
       "    </tr>\n",
       "    <tr>\n",
       "      <th>378131</th>\n",
       "      <td>2021-01-25</td>\n",
       "      <td>161.339996</td>\n",
       "      <td>1443800.0</td>\n",
       "      <td>ZTS</td>\n",
       "    </tr>\n",
       "    <tr>\n",
       "      <th>378132</th>\n",
       "      <td>2021-01-26</td>\n",
       "      <td>159.710007</td>\n",
       "      <td>1982000.0</td>\n",
       "      <td>ZTS</td>\n",
       "    </tr>\n",
       "    <tr>\n",
       "      <th>378133</th>\n",
       "      <td>2021-01-27</td>\n",
       "      <td>153.149994</td>\n",
       "      <td>2235600.0</td>\n",
       "      <td>ZTS</td>\n",
       "    </tr>\n",
       "    <tr>\n",
       "      <th>378134</th>\n",
       "      <td>2021-01-28</td>\n",
       "      <td>156.529999</td>\n",
       "      <td>1859300.0</td>\n",
       "      <td>ZTS</td>\n",
       "    </tr>\n",
       "    <tr>\n",
       "      <th>378135</th>\n",
       "      <td>2021-01-29</td>\n",
       "      <td>154.250000</td>\n",
       "      <td>1977200.0</td>\n",
       "      <td>ZTS</td>\n",
       "    </tr>\n",
       "  </tbody>\n",
       "</table>\n",
       "<p>378136 rows × 4 columns</p>\n",
       "</div>"
      ],
      "text/plain": [
       "             Date   Adj_Close     Volume symbol\n",
       "0      2018-01-29   72.631302  1321900.0      A\n",
       "1      2018-01-30   71.130524  1817000.0      A\n",
       "2      2018-01-31   71.559326  2032800.0      A\n",
       "3      2018-02-01   70.974609  2008200.0      A\n",
       "4      2018-02-02   69.434868  1955700.0      A\n",
       "...           ...         ...        ...    ...\n",
       "378131 2021-01-25  161.339996  1443800.0    ZTS\n",
       "378132 2021-01-26  159.710007  1982000.0    ZTS\n",
       "378133 2021-01-27  153.149994  2235600.0    ZTS\n",
       "378134 2021-01-28  156.529999  1859300.0    ZTS\n",
       "378135 2021-01-29  154.250000  1977200.0    ZTS\n",
       "\n",
       "[378136 rows x 4 columns]"
      ]
     },
     "execution_count": 296,
     "metadata": {},
     "output_type": "execute_result"
    }
   ],
   "source": [
    "df_short.to_csv()"
   ]
  },
  {
   "cell_type": "code",
   "execution_count": 302,
   "metadata": {},
   "outputs": [],
   "source": [
    "merged = df_short.merge(df_marketcap, on=['symbol'], how='inner')"
   ]
  },
  {
   "cell_type": "code",
   "execution_count": 303,
   "metadata": {},
   "outputs": [
    {
     "data": {
      "text/html": [
       "<div>\n",
       "<style scoped>\n",
       "    .dataframe tbody tr th:only-of-type {\n",
       "        vertical-align: middle;\n",
       "    }\n",
       "\n",
       "    .dataframe tbody tr th {\n",
       "        vertical-align: top;\n",
       "    }\n",
       "\n",
       "    .dataframe thead th {\n",
       "        text-align: right;\n",
       "    }\n",
       "</style>\n",
       "<table border=\"1\" class=\"dataframe\">\n",
       "  <thead>\n",
       "    <tr style=\"text-align: right;\">\n",
       "      <th></th>\n",
       "      <th>Date</th>\n",
       "      <th>Adj_Close</th>\n",
       "      <th>Volume</th>\n",
       "      <th>symbol</th>\n",
       "      <th>name</th>\n",
       "      <th>sector</th>\n",
       "      <th>marketcap</th>\n",
       "    </tr>\n",
       "  </thead>\n",
       "  <tbody>\n",
       "    <tr>\n",
       "      <th>0</th>\n",
       "      <td>2018-01-29</td>\n",
       "      <td>72.631302</td>\n",
       "      <td>1321900.0</td>\n",
       "      <td>A</td>\n",
       "      <td>Agilent Technologies</td>\n",
       "      <td>Health Care</td>\n",
       "      <td>36560712369</td>\n",
       "    </tr>\n",
       "    <tr>\n",
       "      <th>1</th>\n",
       "      <td>2018-01-30</td>\n",
       "      <td>71.130524</td>\n",
       "      <td>1817000.0</td>\n",
       "      <td>A</td>\n",
       "      <td>Agilent Technologies</td>\n",
       "      <td>Health Care</td>\n",
       "      <td>36560712369</td>\n",
       "    </tr>\n",
       "    <tr>\n",
       "      <th>2</th>\n",
       "      <td>2018-01-31</td>\n",
       "      <td>71.559326</td>\n",
       "      <td>2032800.0</td>\n",
       "      <td>A</td>\n",
       "      <td>Agilent Technologies</td>\n",
       "      <td>Health Care</td>\n",
       "      <td>36560712369</td>\n",
       "    </tr>\n",
       "    <tr>\n",
       "      <th>3</th>\n",
       "      <td>2018-02-01</td>\n",
       "      <td>70.974609</td>\n",
       "      <td>2008200.0</td>\n",
       "      <td>A</td>\n",
       "      <td>Agilent Technologies</td>\n",
       "      <td>Health Care</td>\n",
       "      <td>36560712369</td>\n",
       "    </tr>\n",
       "    <tr>\n",
       "      <th>4</th>\n",
       "      <td>2018-02-02</td>\n",
       "      <td>69.434868</td>\n",
       "      <td>1955700.0</td>\n",
       "      <td>A</td>\n",
       "      <td>Agilent Technologies</td>\n",
       "      <td>Health Care</td>\n",
       "      <td>36560712369</td>\n",
       "    </tr>\n",
       "    <tr>\n",
       "      <th>...</th>\n",
       "      <td>...</td>\n",
       "      <td>...</td>\n",
       "      <td>...</td>\n",
       "      <td>...</td>\n",
       "      <td>...</td>\n",
       "      <td>...</td>\n",
       "      <td>...</td>\n",
       "    </tr>\n",
       "    <tr>\n",
       "      <th>378131</th>\n",
       "      <td>2021-01-25</td>\n",
       "      <td>161.339996</td>\n",
       "      <td>1443800.0</td>\n",
       "      <td>ZTS</td>\n",
       "      <td>Zoetis</td>\n",
       "      <td>Health Care</td>\n",
       "      <td>71792874526</td>\n",
       "    </tr>\n",
       "    <tr>\n",
       "      <th>378132</th>\n",
       "      <td>2021-01-26</td>\n",
       "      <td>159.710007</td>\n",
       "      <td>1982000.0</td>\n",
       "      <td>ZTS</td>\n",
       "      <td>Zoetis</td>\n",
       "      <td>Health Care</td>\n",
       "      <td>71792874526</td>\n",
       "    </tr>\n",
       "    <tr>\n",
       "      <th>378133</th>\n",
       "      <td>2021-01-27</td>\n",
       "      <td>153.149994</td>\n",
       "      <td>2235600.0</td>\n",
       "      <td>ZTS</td>\n",
       "      <td>Zoetis</td>\n",
       "      <td>Health Care</td>\n",
       "      <td>71792874526</td>\n",
       "    </tr>\n",
       "    <tr>\n",
       "      <th>378134</th>\n",
       "      <td>2021-01-28</td>\n",
       "      <td>156.529999</td>\n",
       "      <td>1859300.0</td>\n",
       "      <td>ZTS</td>\n",
       "      <td>Zoetis</td>\n",
       "      <td>Health Care</td>\n",
       "      <td>71792874526</td>\n",
       "    </tr>\n",
       "    <tr>\n",
       "      <th>378135</th>\n",
       "      <td>2021-01-29</td>\n",
       "      <td>154.250000</td>\n",
       "      <td>1977200.0</td>\n",
       "      <td>ZTS</td>\n",
       "      <td>Zoetis</td>\n",
       "      <td>Health Care</td>\n",
       "      <td>71792874526</td>\n",
       "    </tr>\n",
       "  </tbody>\n",
       "</table>\n",
       "<p>378136 rows × 7 columns</p>\n",
       "</div>"
      ],
      "text/plain": [
       "             Date   Adj_Close     Volume symbol                  name  \\\n",
       "0      2018-01-29   72.631302  1321900.0      A  Agilent Technologies   \n",
       "1      2018-01-30   71.130524  1817000.0      A  Agilent Technologies   \n",
       "2      2018-01-31   71.559326  2032800.0      A  Agilent Technologies   \n",
       "3      2018-02-01   70.974609  2008200.0      A  Agilent Technologies   \n",
       "4      2018-02-02   69.434868  1955700.0      A  Agilent Technologies   \n",
       "...           ...         ...        ...    ...                   ...   \n",
       "378131 2021-01-25  161.339996  1443800.0    ZTS                Zoetis   \n",
       "378132 2021-01-26  159.710007  1982000.0    ZTS                Zoetis   \n",
       "378133 2021-01-27  153.149994  2235600.0    ZTS                Zoetis   \n",
       "378134 2021-01-28  156.529999  1859300.0    ZTS                Zoetis   \n",
       "378135 2021-01-29  154.250000  1977200.0    ZTS                Zoetis   \n",
       "\n",
       "             sector    marketcap  \n",
       "0       Health Care  36560712369  \n",
       "1       Health Care  36560712369  \n",
       "2       Health Care  36560712369  \n",
       "3       Health Care  36560712369  \n",
       "4       Health Care  36560712369  \n",
       "...             ...          ...  \n",
       "378131  Health Care  71792874526  \n",
       "378132  Health Care  71792874526  \n",
       "378133  Health Care  71792874526  \n",
       "378134  Health Care  71792874526  \n",
       "378135  Health Care  71792874526  \n",
       "\n",
       "[378136 rows x 7 columns]"
      ]
     },
     "execution_count": 303,
     "metadata": {},
     "output_type": "execute_result"
    }
   ],
   "source": [
    "merged"
   ]
  },
  {
   "cell_type": "code",
   "execution_count": 305,
   "metadata": {},
   "outputs": [],
   "source": [
    "merged.to_csv('preprocessed_data.csv')"
   ]
  },
  {
   "cell_type": "markdown",
   "metadata": {},
   "source": []
  }
 ],
 "metadata": {
  "kernelspec": {
   "display_name": "Python 3",
   "language": "python",
   "name": "python3"
  },
  "language_info": {
   "codemirror_mode": {
    "name": "ipython",
    "version": 3
   },
   "file_extension": ".py",
   "mimetype": "text/x-python",
   "name": "python",
   "nbconvert_exporter": "python",
   "pygments_lexer": "ipython3",
   "version": "3.8.5"
  }
 },
 "nbformat": 4,
 "nbformat_minor": 4
}
